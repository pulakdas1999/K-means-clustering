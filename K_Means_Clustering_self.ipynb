{
  "nbformat": 4,
  "nbformat_minor": 0,
  "metadata": {
    "colab": {
      "provenance": []
    },
    "kernelspec": {
      "name": "python3",
      "display_name": "Python 3"
    },
    "language_info": {
      "name": "python"
    }
  },
  "cells": [
    {
      "cell_type": "markdown",
      "source": [
        "#Setting up Data"
      ],
      "metadata": {
        "id": "eavDPBF1OnHF"
      }
    },
    {
      "cell_type": "code",
      "source": [
        "X = [4, 5, 9, 6, 1, 3, 2, 8, 0, 7]\n",
        "Y = [7, 3, 8, 1, 4, 2, 0, 9, 5, 6]\n",
        "Z = [1, 4, 3, 5, 2, 8, 6, 0, 7, 9]\n",
        "data = list(zip(X, Y, Z))\n",
        "print(data)"
      ],
      "metadata": {
        "id": "TU9KmDAGpmvq",
        "colab": {
          "base_uri": "https://localhost:8080/"
        },
        "outputId": "d95e5790-e689-42ad-c2e3-5ef870787316"
      },
      "execution_count": null,
      "outputs": [
        {
          "output_type": "stream",
          "name": "stdout",
          "text": [
            "[(4, 7, 1), (5, 3, 4), (9, 8, 3), (6, 1, 5), (1, 4, 2), (3, 2, 8), (2, 0, 6), (8, 9, 0), (0, 5, 7), (7, 6, 9)]\n"
          ]
        }
      ]
    },
    {
      "cell_type": "markdown",
      "source": [
        "#Plotting my data"
      ],
      "metadata": {
        "id": "DMa4E-O3ZF4P"
      }
    },
    {
      "cell_type": "code",
      "source": [
        "import matplotlib.pyplot as plt\n",
        "plt.scatter(range(0, 10), X, marker='*')\n",
        "plt.scatter(range(0, 10), Y, marker='o')\n",
        "plt.scatter(range(0, 10), Z, marker='x')\n",
        "plt.show()"
      ],
      "metadata": {
        "colab": {
          "base_uri": "https://localhost:8080/",
          "height": 430
        },
        "id": "BFqsKU85ZIqX",
        "outputId": "a4f09865-a9ce-46f2-e67e-08b36302dbe7"
      },
      "execution_count": null,
      "outputs": [
        {
          "output_type": "display_data",
          "data": {
            "text/plain": [
              "<Figure size 640x480 with 1 Axes>"
            ],
            "image/png": "[encoded data removed]"
          },
          "metadata": {}
        }
      ]
    },
    {
      "cell_type": "markdown",
      "source": [
        "#K-Means Definition"
      ],
      "metadata": {
        "id": "H0RbQG75PrTy"
      }
    },
    {
      "cell_type": "code",
      "source": [
        "from copy import copy, deepcopy\n",
        "\n",
        "class KMeans:\n",
        "  def __init__(self, K) -> None:\n",
        "    self.n_clusters = K\n",
        "    self.alreadyCentroids = set()\n",
        "    self.centroids = []\n",
        "    self.labels = []\n",
        "\n",
        "  def findInitialCentroids(self, dataset):\n",
        "    centroids = []\n",
        "    for i in range(self.n_clusters):\n",
        "      centroids.append(dataset[i])\n",
        "\n",
        "    self.centroids = centroids\n",
        "\n",
        "  def findCentroids(self, group):\n",
        "    newCentroids = [] * self.n_clusters\n",
        "    for key, val in group.items():\n",
        "      res = []\n",
        "      for j in range(len(val[0])):\n",
        "        sumEle = 0\n",
        "        for i in range(len(val)):\n",
        "          sumEle += val[i][j]\n",
        "        res.append(sumEle / len(val))\n",
        "      newCentroids.append(res)\n",
        "    self.centroids = newCentroids\n",
        "\n",
        "  def findDistance(self, arr1, arr2):\n",
        "    # Euclidean Distance Calculation\n",
        "    res = 0\n",
        "    for i in range(len(arr1)):\n",
        "      res += (arr1[i] - arr2[i]) ** 2\n",
        "    return (res ** 0.5)\n",
        "\n",
        "  def findMinIndex(self, arr):\n",
        "    mnIdx = 0\n",
        "    mnval = float('inf')\n",
        "\n",
        "    for i in range(len(arr)):\n",
        "      if arr[i] < mnval:\n",
        "        mnval = arr[i]\n",
        "        mnIdx = i\n",
        "    return mnIdx\n",
        "\n",
        "  def label(self, dataset):\n",
        "    centroidsArr = self.centroids\n",
        "    res = [0] * len(dataset)\n",
        "\n",
        "    for i in range(len(dataset)):\n",
        "      dis = [0] * len(centroidsArr)\n",
        "      for j in range(len(centroidsArr)):\n",
        "        dis[j] = self.findDistance(dataset[i], centroidsArr[j])\n",
        "      res[i] = self.findMinIndex(dis)\n",
        "\n",
        "    self.labels = res\n",
        "\n",
        "  def centroidsAreNotEqual(self, arr1, arr2):\n",
        "    if len(arr1) != len(arr2):\n",
        "      return True\n",
        "    for i in range(len(arr1)):\n",
        "      for j in range(len(arr1[0])):\n",
        "        if arr1[i][j] != arr2[i][j]:\n",
        "          return True\n",
        "    return False\n",
        "\n",
        "  def fit(self, data):\n",
        "    self.findInitialCentroids(data)\n",
        "    self.label(data)\n",
        "\n",
        "    # Initial grouping\n",
        "    group = {k:[] for k in range(self.n_clusters)}\n",
        "    for i, val in enumerate(data):\n",
        "      group[self.labels[i]].append(val)\n",
        "\n",
        "    newCentroids = []\n",
        "    # K-Means Clustering until centroids stop moving\n",
        "    while self.centroidsAreNotEqual(self.centroids, newCentroids):\n",
        "      #print(self.labels, self.centroids, group, sep='\\n')\n",
        "      newCentroids = deepcopy(self.centroids)\n",
        "      self.findCentroids(group)\n",
        "      self.label(data)\n",
        "      group = {k:[] for k in range(self.n_clusters)}\n",
        "      for i, val in enumerate(data):\n",
        "        group[self.labels[i]].append(val)\n",
        "      #print()"
      ],
      "metadata": {
        "id": "3mteKnBxPWh8"
      },
      "execution_count": null,
      "outputs": []
    },
    {
      "cell_type": "markdown",
      "source": [
        "#Testing my code"
      ],
      "metadata": {
        "id": "kNRRrkHJXOHk"
      }
    },
    {
      "cell_type": "code",
      "source": [
        "kmeans = KMeans(3)\n",
        "kmeans.fit(data)\n",
        "print(kmeans.labels, kmeans.centroids, sep='\\n')"
      ],
      "metadata": {
        "colab": {
          "base_uri": "https://localhost:8080/"
        },
        "id": "OPKdbXDyXEUu",
        "outputId": "52cc4dba-0db3-4b6d-8392-6b7eb14b3fc7"
      },
      "execution_count": null,
      "outputs": [
        {
          "output_type": "stream",
          "name": "stdout",
          "text": [
            "[0, 1, 2, 1, 0, 1, 1, 2, 1, 1]\n",
            "[[2.5, 5.5, 1.5], [3.8333333333333335, 2.8333333333333335, 6.5], [8.5, 8.5, 1.5]]\n"
          ]
        }
      ]
    },
    {
      "cell_type": "code",
      "source": [
        "import matplotlib.pyplot as plt\n",
        "fig, (ax1, ax2, ax3) = plt.subplots(1, 3, figsize=(20, 5))\n",
        "fig.suptitle('For 3 data columns')\n",
        "ax1.scatter(range(10), X, c = kmeans.labels, marker='o')\n",
        "ax2.scatter(range(10), Y, c = kmeans.labels, marker='*')\n",
        "ax3.scatter(range(10), Z, c = kmeans.labels, marker='x')\n",
        "plt.show()"
      ],
      "metadata": {
        "colab": {
          "base_uri": "https://localhost:8080/",
          "height": 442
        },
        "id": "cKum3le3H_FM",
        "outputId": "4313f280-978b-4efa-a069-7568a138c048"
      },
      "execution_count": null,
      "outputs": [
        {
          "output_type": "display_data",
          "data": {
            "text/plain": [
              "<Figure size 2000x500 with 3 Axes>"
            ],
            "image/png": "[encoded data removed]"
          },
          "metadata": {}
        }
      ]
    },
    {
      "cell_type": "code",
      "source": [
        "from sklearn.datasets import load_iris\n",
        "x, y = load_iris(return_X_y=True)\n",
        "kmeans = KMeans(3)\n",
        "kmeans.fit(x)\n",
        "print(kmeans.labels, kmeans.centroids, sep='\\n')"
      ],
      "metadata": {
        "colab": {
          "base_uri": "https://localhost:8080/"
        },
        "id": "3qWCut37gSxB",
        "outputId": "34c97e45-315a-42d3-850c-a3ac5c793938"
      },
      "execution_count": null,
      "outputs": [
        {
          "output_type": "stream",
          "name": "stdout",
          "text": [
            "[2, 2, 2, 2, 2, 2, 2, 2, 2, 2, 2, 2, 2, 2, 2, 2, 2, 2, 2, 2, 2, 2, 2, 2, 2, 2, 2, 2, 2, 2, 2, 2, 2, 2, 2, 2, 2, 2, 2, 2, 2, 2, 2, 2, 2, 2, 2, 2, 2, 2, 0, 1, 0, 1, 1, 1, 1, 1, 1, 1, 1, 1, 1, 1, 1, 1, 1, 1, 1, 1, 1, 1, 1, 1, 1, 1, 1, 0, 1, 1, 1, 1, 1, 1, 1, 1, 1, 1, 1, 1, 1, 1, 1, 1, 1, 1, 1, 1, 1, 1, 0, 1, 0, 0, 0, 0, 1, 0, 0, 0, 0, 0, 0, 1, 1, 0, 0, 0, 0, 1, 0, 1, 0, 1, 0, 0, 1, 1, 0, 0, 0, 0, 0, 1, 0, 0, 0, 0, 1, 0, 0, 0, 1, 0, 0, 0, 1, 0, 0, 1]\n",
            "[[6.853846153846153, 3.0769230769230766, 5.715384615384615, 2.053846153846153], [5.88360655737705, 2.740983606557377, 4.388524590163935, 1.4344262295081966], [5.005999999999999, 3.428000000000001, 1.4620000000000002, 0.2459999999999999]]\n"
          ]
        }
      ]
    },
    {
      "cell_type": "code",
      "source": [],
      "metadata": {
        "id": "P1zD900-HPvV"
      },
      "execution_count": null,
      "outputs": []
    }
  ]
}